{
 "cells": [
  {
   "cell_type": "code",
   "execution_count": 40,
   "metadata": {
    "collapsed": false
   },
   "outputs": [],
   "source": [
    "import sys\n",
    "import os\n",
    "import numpy as np\n",
    "from collections import Counter\n",
    "from collections import defaultdict\n",
    "import json\n",
    "from nltk.metrics import distance"
   ]
  },
  {
   "cell_type": "code",
   "execution_count": 41,
   "metadata": {
    "collapsed": false
   },
   "outputs": [],
   "source": [
    "def read_source(directory_path):\n",
    "    source_arr = []\n",
    "    for root, dirs, files in os.walk(directory_path):\n",
    "        for f in files:\n",
    "            with open(directory_path + \"/\" + f, \"r\") as source:\n",
    "                s = source.read()\n",
    "                source_arr.append((f, f.split('_')[0], s))\n",
    "    return source_arr"
   ]
  },
  {
   "cell_type": "code",
   "execution_count": 42,
   "metadata": {
    "collapsed": false
   },
   "outputs": [
    {
     "name": "stdout",
     "output_type": "stream",
     "text": [
      "Counter({'py': 10138, 'java': 4974, 'md': 1435, 'cpp': 902, 'c': 626, 'js': 376, 'pl': 73, 'r': 4})\n"
     ]
    }
   ],
   "source": [
    "def get_file_extensions():\n",
    "    path = os.path.expanduser(\"~/Dropbox/classes/Fall 2017/project/data/{}/source/\".format(\"AAN\"))\n",
    "    arr = read_source(path)\n",
    "    print Counter([a[0].split('.')[-1] for a in arr])\n",
    "    \n",
    "get_file_extensions()"
   ]
  },
  {
   "cell_type": "code",
   "execution_count": 43,
   "metadata": {
    "collapsed": false
   },
   "outputs": [],
   "source": [
    "def read_json_file():\n",
    "    path = os.path.expanduser(\"~/Dropbox/classes/Fall 2017/project/data/AAN/source_features.json\")\n",
    "    with open(path, \"r\") as f:\n",
    "        file_list = json.loads(f.read())\n",
    "    \n",
    "    return file_list\n",
    "    "
   ]
  },
  {
   "cell_type": "code",
   "execution_count": 51,
   "metadata": {
    "collapsed": false
   },
   "outputs": [],
   "source": [
    "def search_for_name(keyword, json_dict, type_filter = None):\n",
    "    matches = []\n",
    "    for file_name in json_dict.keys():\n",
    "        for line in json_dict[file_name]:\n",
    "            right_type = (type_filter is None or line[\"type\"] == type_filter)\n",
    "            if line[\"name\"] == keyword and right_type:\n",
    "                matches.append((file_name, line))\n",
    "    return matches\n",
    "    \n",
    "    "
   ]
  },
  {
   "cell_type": "code",
   "execution_count": 67,
   "metadata": {
    "collapsed": true
   },
   "outputs": [],
   "source": [
    "def search_for_docstring(keyword, json_dict, type_filter = None):\n",
    "    matches = []\n",
    "    for file_name in json_dict.keys():\n",
    "        for line in json_dict[file_name]:\n",
    "            right_type = (type_filter is None or line[\"type\"] == type_filter)\n",
    "            if keyword in line[\"docstring\"] and right_type:\n",
    "                matches.append((file_name, line))\n",
    "    return matches"
   ]
  },
  {
   "cell_type": "code",
   "execution_count": 45,
   "metadata": {
    "collapsed": true
   },
   "outputs": [],
   "source": [
    "def read_source(file_name):\n",
    "    try:\n",
    "        with open(file_name, \"r\") as f:\n",
    "            source = f.read()\n",
    "        return source\n",
    "    except Exception:\n",
    "        return \"\"\n",
    "    "
   ]
  },
  {
   "cell_type": "code",
   "execution_count": 46,
   "metadata": {
    "collapsed": true
   },
   "outputs": [],
   "source": [
    "def print_source(file_name, line_start, line_end):\n",
    "    source = read_source(file_name)\n",
    "    return \"\\n\".join(source.split(\"\\n\")[line_start - 1 :line_end])\n",
    "        "
   ]
  },
  {
   "cell_type": "code",
   "execution_count": 47,
   "metadata": {
    "collapsed": true
   },
   "outputs": [],
   "source": [
    "def get_indentation(line_string):\n",
    "    whitespace = [\" \", \"\\t\"]\n",
    "    indentation = \"\"\n",
    "    for char in line_string:\n",
    "        if char in whitespace:\n",
    "            indentation += char\n",
    "        else:\n",
    "            break\n",
    "    return indentation"
   ]
  },
  {
   "cell_type": "code",
   "execution_count": 48,
   "metadata": {
    "collapsed": true
   },
   "outputs": [],
   "source": [
    "def infer_end_line(file_name, line_dict):\n",
    "    source = read_source(file_name)\n",
    "    lines = source.split(\"\\n\")\n",
    "    \n",
    "    target_indentation = get_indentation(lines[line_dict[\"line\"] - 1])\n",
    "    i = line_dict[\"line\"]\n",
    "    while i < len(lines):\n",
    "        line = lines[i]\n",
    "        if (get_indentation(line) == target_indentation) and len(line) > 0:\n",
    "            if i == line_dict[\"line\"]:\n",
    "                return i\n",
    "            return i - 1\n",
    "        i += 1\n",
    "    return i\n",
    "        \n",
    "    \n",
    "    "
   ]
  },
  {
   "cell_type": "code",
   "execution_count": 56,
   "metadata": {
    "collapsed": false
   },
   "outputs": [],
   "source": [
    "def find_matches_by_name(json_dict, search_term, type_filter=None):\n",
    "    matches = search_for_name(search_term, json_dict, type_filter)\n",
    "    if len(matches):\n",
    "        end =  infer_end_line(matches[0][0], matches[0][1])\n",
    "        return print_source(matches[0][0], matches[0][1][\"line\"], end)\n",
    "    else:\n",
    "        return \"No Matches Found.\"\n",
    "\n",
    "    "
   ]
  },
  {
   "cell_type": "code",
   "execution_count": 68,
   "metadata": {
    "collapsed": true
   },
   "outputs": [],
   "source": [
    "def find_matches_by_docstring(json_dict, search_term, type_filter=None):\n",
    "    matches = search_for_docstring(search_term, json_dict, type_filter)\n",
    "    if len(matches):\n",
    "        end =  infer_end_line(matches[0][0], matches[0][1])\n",
    "        return print_source(matches[0][0], matches[0][1][\"line\"], end)\n",
    "    else:\n",
    "        return \"No Matches Found.\""
   ]
  },
  {
   "cell_type": "code",
   "execution_count": 57,
   "metadata": {
    "collapsed": true
   },
   "outputs": [],
   "source": [
    "json_dict = read_json_file()"
   ]
  },
  {
   "cell_type": "code",
   "execution_count": 73,
   "metadata": {
    "collapsed": false
   },
   "outputs": [
    {
     "name": "stdout",
     "output_type": "stream",
     "text": [
      "  def SoftmaxEval(self, sess, model, num_steps):\n",
      "    \"\"\"Evaluate a model in softmax mode.\n",
      "\n",
      "    Adds char, word recall and sequence error rate events to the sw summary\n",
      "    writer, and returns them as well\n",
      "    TODO(rays) Add LogisticEval.\n",
      "    Args:\n",
      "      sess:  A tensor flow Session.\n",
      "      model: The model to run in the session. Requires a VGSLImageModel or any\n",
      "        other class that has a using_ctc attribute and a RunAStep(sess) method\n",
      "        that reurns a softmax result with corresponding labels.\n",
      "      num_steps: Number of steps to evaluate for.\n",
      "    Returns:\n",
      "      ErrorRates named tuple.\n",
      "    Raises:\n",
      "      ValueError: If an unsupported number of dimensions is used.\n",
      "    \"\"\"\n",
      "    coord = tf.train.Coordinator()\n",
      "    threads = tf.train.start_queue_runners(sess=sess, coord=coord)\n",
      "    # Run the requested number of evaluation steps, gathering the outputs of the\n",
      "    # softmax and the true labels of the evaluation examples.\n",
      "    total_label_counts = ec.ErrorCounts(0, 0, 0, 0)\n",
      "    total_word_counts = ec.ErrorCounts(0, 0, 0, 0)\n",
      "    sequence_errors = 0\n",
      "    for _ in xrange(num_steps):\n",
      "      softmax_result, labels = model.RunAStep(sess)\n",
      "      # Collapse softmax to same shape as labels.\n",
      "      predictions = softmax_result.argmax(axis=-1)\n",
      "      # Exclude batch from num_dims.\n",
      "      num_dims = len(predictions.shape) - 1\n",
      "      batch_size = predictions.shape[0]\n",
      "      null_label = softmax_result.shape[-1] - 1\n",
      "      for b in xrange(batch_size):\n",
      "        if num_dims == 2:\n",
      "          # TODO(rays) Support 2-d data.\n",
      "          raise ValueError('2-d label data not supported yet!')\n",
      "        else:\n",
      "          if num_dims == 1:\n",
      "            pred_batch = predictions[b, :]\n",
      "            labels_batch = labels[b, :]\n",
      "          else:\n",
      "            pred_batch = [predictions[b]]\n",
      "            labels_batch = [labels[b]]\n",
      "          text = self.StringFromCTC(pred_batch, model.using_ctc, null_label)\n",
      "          truth = self.StringFromCTC(labels_batch, False, null_label)\n",
      "          # Note that recall_errs is false negatives (fn) aka drops/deletions.\n",
      "          # Actual recall would be 1-fn/truth_words.\n",
      "          # Likewise precision_errs is false positives (fp) aka adds/insertions.\n",
      "          # Actual precision would be 1-fp/ocr_words.\n",
      "          total_word_counts = ec.AddErrors(total_word_counts,\n",
      "                                           ec.CountWordErrors(text, truth))\n",
      "          total_label_counts = ec.AddErrors(total_label_counts,\n",
      "                                            ec.CountErrors(text, truth))\n",
      "          if text != truth:\n",
      "            sequence_errors += 1\n",
      "\n",
      "    coord.request_stop()\n",
      "    coord.join(threads)\n",
      "    return ec.ComputeErrorRates(total_label_counts, total_word_counts,\n",
      "                                sequence_errors, num_steps * batch_size)\n"
     ]
    }
   ],
   "source": [
    "# print find_matches_by_name(json_dict, \"sofax\", \"function\")\n",
    "print find_matches_by_docstring(json_dict, \"softmax\")"
   ]
  },
  {
   "cell_type": "code",
   "execution_count": 72,
   "metadata": {
    "collapsed": false
   },
   "outputs": [],
   "source": []
  },
  {
   "cell_type": "code",
   "execution_count": null,
   "metadata": {
    "collapsed": true
   },
   "outputs": [],
   "source": []
  }
 ],
 "metadata": {
  "kernelspec": {
   "display_name": "Python 2",
   "language": "python",
   "name": "python2"
  },
  "language_info": {
   "codemirror_mode": {
    "name": "ipython",
    "version": 2
   },
   "file_extension": ".py",
   "mimetype": "text/x-python",
   "name": "python",
   "nbconvert_exporter": "python",
   "pygments_lexer": "ipython2",
   "version": "2.7.10"
  }
 },
 "nbformat": 4,
 "nbformat_minor": 1
}
