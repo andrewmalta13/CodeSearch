{
 "cells": [
  {
   "cell_type": "code",
   "execution_count": 1,
   "metadata": {
    "collapsed": false
   },
   "outputs": [],
   "source": [
    "import sys\n",
    "import os\n",
    "import numpy as np\n",
    "from collections import Counter\n",
    "from collections import defaultdict\n",
    "import json"
   ]
  },
  {
   "cell_type": "code",
   "execution_count": 7,
   "metadata": {
    "collapsed": false
   },
   "outputs": [],
   "source": [
    "def read_source(directory_path):\n",
    "    source_arr = []\n",
    "    for root, dirs, files in os.walk(directory_path):\n",
    "        for f in files:\n",
    "            with open(directory_path + \"/\" + f, \"r\") as source:\n",
    "                s = source.read()\n",
    "                source_arr.append((f, f.split('_')[0], s))\n",
    "    return source_arr"
   ]
  },
  {
   "cell_type": "code",
   "execution_count": 8,
   "metadata": {
    "collapsed": false
   },
   "outputs": [
    {
     "name": "stdout",
     "output_type": "stream",
     "text": [
      "Counter({'py': 10138, 'java': 4974, 'md': 1435, 'cpp': 902, 'c': 626, 'js': 376, 'pl': 73, 'r': 4})\n"
     ]
    }
   ],
   "source": [
    "def get_file_extensions():\n",
    "    path = os.path.expanduser(\"~/Dropbox/classes/Fall 2017/project/data/{}/source/\".format(\"AAN\"))\n",
    "    arr = read_source(path)\n",
    "    print Counter([a[0].split('.')[-1] for a in arr])\n",
    "    \n",
    "get_file_extensions()"
   ]
  },
  {
   "cell_type": "code",
   "execution_count": 2,
   "metadata": {
    "collapsed": false
   },
   "outputs": [],
   "source": [
    "def read_json_file():\n",
    "    path = os.path.expanduser(\"~/Dropbox/classes/Fall 2017/project/data/AAN/source_features.json\")\n",
    "    with open(path, \"r\") as f:\n",
    "        file_list = json.loads(f.read())\n",
    "    \n",
    "    return file_list\n",
    "    "
   ]
  },
  {
   "cell_type": "code",
   "execution_count": 7,
   "metadata": {
    "collapsed": false
   },
   "outputs": [],
   "source": [
    "def search_for_name(keyword, json_dict, type_filter = None):\n",
    "    matches = []\n",
    "    for file_name in json_dict.keys():\n",
    "        for line in json_dict[file_name]:\n",
    "            if line[\"name\"] == keyword and (type_filter is None or line[\"type\"] == type_filter):\n",
    "                matches.append((file_name, line))\n",
    "    return matches\n",
    "    \n",
    "    "
   ]
  },
  {
   "cell_type": "code",
   "execution_count": 15,
   "metadata": {
    "collapsed": true
   },
   "outputs": [],
   "source": [
    "def read_source(file_name):\n",
    "    try:\n",
    "        with open(file_name, \"r\") as f:\n",
    "            source = f.read()\n",
    "        return source\n",
    "    except Exception:\n",
    "        return \"\"\n",
    "    "
   ]
  },
  {
   "cell_type": "code",
   "execution_count": 16,
   "metadata": {
    "collapsed": true
   },
   "outputs": [],
   "source": [
    "def print_source(file_name, line_start, line_end):\n",
    "    source = read_source(file_name)\n",
    "    return \"\\n\".join(source.split(\"\\n\")[line_start - 1 :line_end])\n",
    "        "
   ]
  },
  {
   "cell_type": "code",
   "execution_count": 35,
   "metadata": {
    "collapsed": true
   },
   "outputs": [],
   "source": [
    "def get_indentation(line_string):\n",
    "    whitespace = [\" \", \"\\t\"]\n",
    "    indentation = \"\"\n",
    "    for char in line_string:\n",
    "        if char in whitespace:\n",
    "            indentation += char\n",
    "        else:\n",
    "            break\n",
    "    return indentation"
   ]
  },
  {
   "cell_type": "code",
   "execution_count": 42,
   "metadata": {
    "collapsed": true
   },
   "outputs": [],
   "source": [
    "def infer_end_line(file_name, line_dict):\n",
    "    source = read_source(file_name)\n",
    "    lines = source.split(\"\\n\")\n",
    "    \n",
    "    target_indentation = get_indentation(lines[line_dict[\"line\"] - 1])\n",
    "    i = line_dict[\"line\"]\n",
    "    while i < len(lines):\n",
    "        line = lines[i]\n",
    "        if (get_indentation(line) == target_indentation) and len(line) > 0:\n",
    "            return i - 1\n",
    "        i += 1\n",
    "    return i\n",
    "        \n",
    "    \n",
    "    "
   ]
  },
  {
   "cell_type": "code",
   "execution_count": 51,
   "metadata": {
    "collapsed": false
   },
   "outputs": [
    {
     "ename": "IndexError",
     "evalue": "list index out of range",
     "output_type": "error",
     "traceback": [
      "\u001b[0;31m---------------------------------------------------------------------------\u001b[0m",
      "\u001b[0;31mIndexError\u001b[0m                                Traceback (most recent call last)",
      "\u001b[0;32m<ipython-input-51-4ae4af873930>\u001b[0m in \u001b[0;36m<module>\u001b[0;34m()\u001b[0m\n\u001b[1;32m      1\u001b[0m \u001b[0mjson_dict\u001b[0m \u001b[0;34m=\u001b[0m \u001b[0mread_json_file\u001b[0m\u001b[0;34m(\u001b[0m\u001b[0;34m)\u001b[0m\u001b[0;34m\u001b[0m\u001b[0m\n\u001b[1;32m      2\u001b[0m \u001b[0mmatches\u001b[0m \u001b[0;34m=\u001b[0m \u001b[0msearch_for_name\u001b[0m\u001b[0;34m(\u001b[0m\u001b[0;34m\"vectorized\"\u001b[0m\u001b[0;34m,\u001b[0m \u001b[0mjson_dict\u001b[0m\u001b[0;34m,\u001b[0m \u001b[0;34m\"function\"\u001b[0m\u001b[0;34m)\u001b[0m\u001b[0;34m\u001b[0m\u001b[0m\n\u001b[0;32m----> 3\u001b[0;31m \u001b[0mend\u001b[0m \u001b[0;34m=\u001b[0m  \u001b[0minfer_end_line\u001b[0m\u001b[0;34m(\u001b[0m\u001b[0mmatches\u001b[0m\u001b[0;34m[\u001b[0m\u001b[0;36m0\u001b[0m\u001b[0;34m]\u001b[0m\u001b[0;34m[\u001b[0m\u001b[0;36m0\u001b[0m\u001b[0;34m]\u001b[0m\u001b[0;34m,\u001b[0m \u001b[0mmatches\u001b[0m\u001b[0;34m[\u001b[0m\u001b[0;36m0\u001b[0m\u001b[0;34m]\u001b[0m\u001b[0;34m[\u001b[0m\u001b[0;36m1\u001b[0m\u001b[0;34m]\u001b[0m\u001b[0;34m)\u001b[0m\u001b[0;34m\u001b[0m\u001b[0m\n\u001b[0m\u001b[1;32m      4\u001b[0m \u001b[0;32mprint\u001b[0m \u001b[0mprint_source\u001b[0m\u001b[0;34m(\u001b[0m\u001b[0mmatches\u001b[0m\u001b[0;34m[\u001b[0m\u001b[0;36m0\u001b[0m\u001b[0;34m]\u001b[0m\u001b[0;34m[\u001b[0m\u001b[0;36m0\u001b[0m\u001b[0;34m]\u001b[0m\u001b[0;34m,\u001b[0m \u001b[0mmatches\u001b[0m\u001b[0;34m[\u001b[0m\u001b[0;36m0\u001b[0m\u001b[0;34m]\u001b[0m\u001b[0;34m[\u001b[0m\u001b[0;36m1\u001b[0m\u001b[0;34m]\u001b[0m\u001b[0;34m[\u001b[0m\u001b[0;34m\"line\"\u001b[0m\u001b[0;34m]\u001b[0m\u001b[0;34m,\u001b[0m \u001b[0mend\u001b[0m\u001b[0;34m)\u001b[0m\u001b[0;34m\u001b[0m\u001b[0m\n\u001b[1;32m      5\u001b[0m \u001b[0;34m\u001b[0m\u001b[0m\n",
      "\u001b[0;31mIndexError\u001b[0m: list index out of range"
     ]
    }
   ],
   "source": [
    "json_dict = read_json_file()\n",
    "matches = search_for_name(\"vectorized\", json_dict, \"function\")\n",
    "end =  infer_end_line(matches[0][0], matches[0][1])\n",
    "print print_source(matches[0][0], matches[0][1][\"line\"], end)\n",
    "\n",
    "    "
   ]
  },
  {
   "cell_type": "code",
   "execution_count": null,
   "metadata": {
    "collapsed": true
   },
   "outputs": [],
   "source": []
  },
  {
   "cell_type": "code",
   "execution_count": null,
   "metadata": {
    "collapsed": true
   },
   "outputs": [],
   "source": []
  }
 ],
 "metadata": {
  "kernelspec": {
   "display_name": "Python 2",
   "language": "python",
   "name": "python2"
  },
  "language_info": {
   "codemirror_mode": {
    "name": "ipython",
    "version": 2
   },
   "file_extension": ".py",
   "mimetype": "text/x-python",
   "name": "python",
   "nbconvert_exporter": "python",
   "pygments_lexer": "ipython2",
   "version": "2.7.10"
  }
 },
 "nbformat": 4,
 "nbformat_minor": 1
}
