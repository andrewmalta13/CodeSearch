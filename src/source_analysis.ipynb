{
 "cells": [
  {
   "cell_type": "code",
   "execution_count": 43,
   "metadata": {
    "collapsed": false
   },
   "outputs": [],
   "source": [
    "import sys\n",
    "import os\n",
    "import numpy as np\n",
    "from collections import Counter\n",
    "from collections import defaultdict"
   ]
  },
  {
   "cell_type": "code",
   "execution_count": 44,
   "metadata": {
    "collapsed": true
   },
   "outputs": [],
   "source": [
    "def read_source(language):\n",
    "    path = os.path.expanduser(\"~/Dropbox/classes/Fall 2017/project/data/{}/source/\".format(language))\n",
    "    source_arr = []\n",
    "    for root, dirs, files in os.walk(path):\n",
    "        for f in files:\n",
    "            with open(path + \"/\" + f, \"r\") as source:\n",
    "                s = source.read().split(\"\\n\")\n",
    "                source_arr.append((f.split('_')[0], s))\n",
    "    return source_arr"
   ]
  },
  {
   "cell_type": "code",
   "execution_count": 51,
   "metadata": {
    "collapsed": true
   },
   "outputs": [],
   "source": [
    "def score(repos, counts, line):\n",
    "    return len(repos[line]) * counts[line]"
   ]
  },
  {
   "cell_type": "code",
   "execution_count": 52,
   "metadata": {
    "collapsed": false
   },
   "outputs": [],
   "source": [
    "arr = read_source(\"Python\")\n",
    "repos = defaultdict(set)\n",
    "lines = []\n",
    "for repo, s in arr:\n",
    "    for line in s:\n",
    "        stripped = line.strip()\n",
    "        lines.append(stripped)\n",
    "        repos[stripped].add(repo)"
   ]
  },
  {
   "cell_type": "code",
   "execution_count": 59,
   "metadata": {
    "collapsed": false
   },
   "outputs": [],
   "source": [
    "line_counts = Counter(lines)\n",
    "line_counts_arr = sorted([i for i in line_counts.iteritems()],\n",
    "                         key=lambda x: score(repos, line_counts, x[0]), reverse=True)"
   ]
  },
  {
   "cell_type": "code",
   "execution_count": 60,
   "metadata": {
    "collapsed": false
   },
   "outputs": [
    {
     "name": "stdout",
     "output_type": "stream",
     "text": [
      "('', 371739) 58 21560862\n",
      "('\"\"\"', 30770) 53 1630810\n",
      "('else:', 18116) 54 978264\n",
      "('try:', 10350) 53 548550\n",
      "('#', 6350) 50 317500\n",
      "('pass', 5712) 50 285600\n",
      "(')', 4926) 52 256152\n",
      "(\"'''\", 4312) 34 146608\n",
      "('}', 2812) 50 140600\n",
      "('return', 2739) 48 131472\n",
      "(']', 2217) 47 104199\n",
      "('@property', 2286) 40 91440\n",
      "('import sys', 1601) 52 83252\n",
      "('finally:', 1969) 39 76791\n",
      "('break', 1725) 42 72450\n",
      "('continue', 1645) 44 72380\n",
      "('import numpy as np', 2278) 31 70618\n",
      "('import os', 1238) 51 63138\n",
      "('----------', 2868) 18 51624\n",
      "('return None', 1219) 42 51198\n",
      "(\"if __name__ == '__main__':\", 1125) 45 50625\n",
      "('return False', 1177) 41 48257\n",
      "('Parameters', 2463) 16 39408\n",
      "('return True', 946) 41 38786\n",
      "('except ImportError:', 910) 41 37310\n",
      "('import unittest', 1310) 27 35370\n",
      "('def setUp(self):', 1430) 24 34320\n",
      "('@classmethod', 944) 35 33040\n",
      "('def __init__(self):', 769) 41 31529\n",
      "('raise', 735) 42 30870\n",
      "('return self', 906) 34 30804\n",
      "('-------', 1587) 19 30153\n",
      "('def __repr__(self):', 757) 38 28766\n",
      "('\"\"\")', 1704) 16 27264\n",
      "('Returns', 1589) 17 27013\n",
      "('@staticmethod', 979) 27 26433\n",
      "('],', 800) 33 26400\n",
      "('# -*- coding: utf-8 -*-', 637) 39 24843\n",
      "('except:', 647) 38 24586\n",
      "('except KeyError:', 617) 39 24063\n",
      "('while True:', 586) 41 24026\n",
      "('except AttributeError:', 642) 34 21828\n",
      "('if __name__ == \"__main__\":', 696) 31 21576\n",
      "('Args:', 1596) 13 20748\n",
      "('return result', 591) 34 20094\n",
      "('import re', 461) 42 19362\n",
      "('},', 621) 31 19251\n",
      "('def __str__(self):', 475) 39 18525\n",
      "('import warnings', 580) 31 17980\n",
      "('--------', 906) 19 17214\n",
      "('except ValueError:', 506) 34 17204\n",
      "('#!/usr/bin/env python', 405) 39 15795\n",
      "('])', 525) 30 15750\n",
      "('import matplotlib.pyplot as plt', 886) 16 14176\n",
      "('from __future__ import print_function', 454) 30 13620\n",
      "('unittest.main()', 746) 18 13428\n",
      "('import time', 404) 32 12928\n",
      "('plt.show()', 812) 15 12180\n",
      "('self.assertEqual(', 750) 16 12000\n",
      "('except TypeError:', 360) 32 11520\n",
      "('raise ValueError(', 477) 22 10494\n",
      "('Returns:', 942) 11 10362\n",
      "('{', 601) 17 10217\n",
      "('f.close()', 448) 22 9856\n",
      "('))', 412) 23 9476\n",
      "('except OSError:', 444) 21 9324\n",
      "('def __iter__(self):', 281) 33 9273\n",
      "('return ret', 453) 20 9060\n",
      "('import numpy', 502) 18 9036\n",
      "('),', 465) 19 8835\n",
      "('from __future__ import absolute_import', 486) 17 8262\n",
      "('return 0', 288) 28 8064\n",
      "('Examples', 473) 17 8041\n",
      "('def tearDown(self):', 412) 19 7828\n",
      "('})', 337) 23 7751\n",
      "('raise NotImplementedError', 461) 16 7376\n",
      "('except Exception as e:', 261) 28 7308\n",
      "('def __len__(self):', 257) 27 6939\n",
      "('def __eq__(self, other):', 276) 24 6624\n",
      "('import logging', 223) 29 6467\n",
      "('# -----------------------------------------------------------------------------', 793) 8 6344\n",
      "('with self.assertRaises(TypeError):', 629) 10 6290\n",
      "('def __enter__(self):', 214) 29 6206\n",
      "('...', 476) 13 6188\n",
      "('return out', 263) 23 6049\n",
      "('import math', 239) 25 5975\n",
      "('return value', 206) 29 5974\n",
      "('return s', 259) 23 5957\n",
      "('return x', 255) 23 5865\n",
      "('except Exception:', 220) 26 5720\n",
      "('print()', 332) 17 5644\n",
      "('def close(self):', 286) 19 5434\n",
      "('import threading', 215) 24 5160\n",
      "('-----', 343) 15 5145\n",
      "('return []', 190) 27 5130\n",
      "('self.name = name', 175) 29 5075\n",
      "('yield', 264) 19 5016\n",
      "('import random', 154) 32 4928\n",
      "('return 1', 271) 18 4878\n",
      "('def main():', 204) 23 4692\n"
     ]
    }
   ],
   "source": [
    "for line in line_counts_arr[0:100]:\n",
    "    print line, len(repos[line[0]]), score(repos, line_counts, line[0])"
   ]
  },
  {
   "cell_type": "code",
   "execution_count": null,
   "metadata": {
    "collapsed": false
   },
   "outputs": [],
   "source": []
  },
  {
   "cell_type": "code",
   "execution_count": null,
   "metadata": {
    "collapsed": true
   },
   "outputs": [],
   "source": []
  }
 ],
 "metadata": {
  "kernelspec": {
   "display_name": "Python 2",
   "language": "python",
   "name": "python2"
  },
  "language_info": {
   "codemirror_mode": {
    "name": "ipython",
    "version": 2
   },
   "file_extension": ".py",
   "mimetype": "text/x-python",
   "name": "python",
   "nbconvert_exporter": "python",
   "pygments_lexer": "ipython2",
   "version": "2.7.10"
  }
 },
 "nbformat": 4,
 "nbformat_minor": 1
}
