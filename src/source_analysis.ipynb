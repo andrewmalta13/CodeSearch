{
 "cells": [
  {
   "cell_type": "code",
   "execution_count": 1,
   "metadata": {
    "collapsed": false
   },
   "outputs": [],
   "source": [
    "import sys\n",
    "import os\n",
    "import numpy as np\n",
    "from collections import Counter\n",
    "from collections import defaultdict\n",
    "import json"
   ]
  },
  {
   "cell_type": "code",
   "execution_count": 7,
   "metadata": {
    "collapsed": false
   },
   "outputs": [],
   "source": [
    "def read_source(directory_path):\n",
    "    source_arr = []\n",
    "    for root, dirs, files in os.walk(directory_path):\n",
    "        for f in files:\n",
    "            with open(directory_path + \"/\" + f, \"r\") as source:\n",
    "                s = source.read()\n",
    "                source_arr.append((f, f.split('_')[0], s))\n",
    "    return source_arr"
   ]
  },
  {
   "cell_type": "code",
   "execution_count": 8,
   "metadata": {
    "collapsed": false
   },
   "outputs": [
    {
     "name": "stdout",
     "output_type": "stream",
     "text": [
      "Counter({'py': 10138, 'java': 4974, 'md': 1435, 'cpp': 902, 'c': 626, 'js': 376, 'pl': 73, 'r': 4})\n"
     ]
    }
   ],
   "source": [
    "def get_file_extensions():\n",
    "    path = os.path.expanduser(\"~/Dropbox/classes/Fall 2017/project/data/{}/source/\".format(\"AAN\"))\n",
    "    arr = read_source(path)\n",
    "    print Counter([a[0].split('.')[-1] for a in arr])\n",
    "    \n",
    "get_file_extensions()"
   ]
  },
  {
   "cell_type": "code",
   "execution_count": 22,
   "metadata": {
    "collapsed": false
   },
   "outputs": [],
   "source": [
    "def read_json_file():\n",
    "    path = os.path.expanduser(\"~/Dropbox/classes/Fall 2017/project/data/AAN/source_features.json\")\n",
    "    with open(path, \"r\") as f:\n",
    "        file_list = json.loads(f.read())\n",
    "    \n",
    "    return file_list\n",
    "    "
   ]
  },
  {
   "cell_type": "code",
   "execution_count": 29,
   "metadata": {
    "collapsed": false
   },
   "outputs": [],
   "source": [
    "def search_for_name(keyword, json_dict):\n",
    "    matches = []\n",
    "    for file_name in json_dict.keys():\n",
    "        for line in json_dict[file_name]:\n",
    "            if line[\"name\"] == keyword:\n",
    "                matches.append((file_name, line))\n",
    "    return matches\n",
    "    \n",
    "    "
   ]
  },
  {
   "cell_type": "code",
   "execution_count": 34,
   "metadata": {
    "collapsed": false
   },
   "outputs": [
    {
     "name": "stdout",
     "output_type": "stream",
     "text": [
      "[(u'/Users/andrewmalta/Dropbox/classes/Fall 2017/project/data/AAN/source/aaron-xichen-pytorch-playground-8d22636_resnet.py', {u'type': u'function', u'line': 19, u'docstring': u'conv3x3(in_planes, out_planes, stride=1)\\n\\n', u'name': u'conv3x3', u'parent': u''})]\n"
     ]
    }
   ],
   "source": [
    "json_dict = read_json_file()\n",
    "print search_for_name(\"conv3x3\", json_dict)\n",
    "    "
   ]
  },
  {
   "cell_type": "code",
   "execution_count": null,
   "metadata": {
    "collapsed": true
   },
   "outputs": [],
   "source": []
  }
 ],
 "metadata": {
  "kernelspec": {
   "display_name": "Python 2",
   "language": "python",
   "name": "python2"
  },
  "language_info": {
   "codemirror_mode": {
    "name": "ipython",
    "version": 2
   },
   "file_extension": ".py",
   "mimetype": "text/x-python",
   "name": "python",
   "nbconvert_exporter": "python",
   "pygments_lexer": "ipython2",
   "version": "2.7.10"
  }
 },
 "nbformat": 4,
 "nbformat_minor": 1
}
