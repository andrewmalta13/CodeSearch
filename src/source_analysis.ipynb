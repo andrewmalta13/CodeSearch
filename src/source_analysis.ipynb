{
 "cells": [
  {
   "cell_type": "code",
   "execution_count": 40,
   "metadata": {
    "collapsed": false
   },
   "outputs": [],
   "source": [
    "import sys\n",
    "import os\n",
    "import numpy as np\n",
    "from collections import Counter\n",
    "from collections import defaultdict\n",
    "import json\n",
    "from nltk.metrics import distance"
   ]
  },
  {
   "cell_type": "code",
   "execution_count": 41,
   "metadata": {
    "collapsed": false
   },
   "outputs": [],
   "source": [
    "def read_source(directory_path):\n",
    "    source_arr = []\n",
    "    for root, dirs, files in os.walk(directory_path):\n",
    "        for f in files:\n",
    "            with open(directory_path + \"/\" + f, \"r\") as source:\n",
    "                s = source.read()\n",
    "                source_arr.append((f, f.split('_')[0], s))\n",
    "    return source_arr"
   ]
  },
  {
   "cell_type": "code",
   "execution_count": 42,
   "metadata": {
    "collapsed": false
   },
   "outputs": [
    {
     "name": "stdout",
     "output_type": "stream",
     "text": [
      "Counter({'py': 10138, 'java': 4974, 'md': 1435, 'cpp': 902, 'c': 626, 'js': 376, 'pl': 73, 'r': 4})\n"
     ]
    }
   ],
   "source": [
    "def get_file_extensions():\n",
    "    path = os.path.expanduser(\"~/Dropbox/classes/Fall 2017/project/data/{}/source/\".format(\"AAN\"))\n",
    "    arr = read_source(path)\n",
    "    print Counter([a[0].split('.')[-1] for a in arr])\n",
    "    \n",
    "get_file_extensions()"
   ]
  },
  {
   "cell_type": "code",
   "execution_count": 43,
   "metadata": {
    "collapsed": false
   },
   "outputs": [],
   "source": [
    "def read_json_file():\n",
    "    path = os.path.expanduser(\"~/Dropbox/classes/Fall 2017/project/data/AAN/source_features.json\")\n",
    "    with open(path, \"r\") as f:\n",
    "        file_list = json.loads(f.read())\n",
    "    \n",
    "    return file_list\n",
    "    "
   ]
  },
  {
   "cell_type": "code",
   "execution_count": 51,
   "metadata": {
    "collapsed": false
   },
   "outputs": [],
   "source": [
    "def search_for_name(keyword, json_dict, type_filter = None):\n",
    "    matches = []\n",
    "    for file_name in json_dict.keys():\n",
    "        for line in json_dict[file_name]:\n",
    "            right_type = (type_filter is None or line[\"type\"] == type_filter)\n",
    "            if line[\"name\"] == keyword and right_type:\n",
    "                matches.append((file_name, line))\n",
    "    return matches\n",
    "    \n",
    "    "
   ]
  },
  {
   "cell_type": "code",
   "execution_count": 67,
   "metadata": {
    "collapsed": true
   },
   "outputs": [],
   "source": [
    "def search_for_docstring(keyword, json_dict, type_filter = None):\n",
    "    matches = []\n",
    "    for file_name in json_dict.keys():\n",
    "        for line in json_dict[file_name]:\n",
    "            right_type = (type_filter is None or line[\"type\"] == type_filter)\n",
    "            if keyword in line[\"docstring\"] and right_type:\n",
    "                matches.append((file_name, line))\n",
    "    return matches"
   ]
  },
  {
   "cell_type": "code",
   "execution_count": 45,
   "metadata": {
    "collapsed": true
   },
   "outputs": [],
   "source": [
    "def read_source(file_name):\n",
    "    try:\n",
    "        with open(file_name, \"r\") as f:\n",
    "            source = f.read()\n",
    "        return source\n",
    "    except Exception:\n",
    "        return \"\"\n",
    "    "
   ]
  },
  {
   "cell_type": "code",
   "execution_count": 46,
   "metadata": {
    "collapsed": true
   },
   "outputs": [],
   "source": [
    "def print_source(file_name, line_start, line_end):\n",
    "    source = read_source(file_name)\n",
    "    return \"\\n\".join(source.split(\"\\n\")[line_start - 1 :line_end])\n",
    "        "
   ]
  },
  {
   "cell_type": "code",
   "execution_count": 47,
   "metadata": {
    "collapsed": true
   },
   "outputs": [],
   "source": [
    "def get_indentation(line_string):\n",
    "    whitespace = [\" \", \"\\t\"]\n",
    "    indentation = \"\"\n",
    "    for char in line_string:\n",
    "        if char in whitespace:\n",
    "            indentation += char\n",
    "        else:\n",
    "            break\n",
    "    return indentation"
   ]
  },
  {
   "cell_type": "code",
   "execution_count": 48,
   "metadata": {
    "collapsed": true
   },
   "outputs": [],
   "source": [
    "def infer_end_line(file_name, line_dict):\n",
    "    source = read_source(file_name)\n",
    "    lines = source.split(\"\\n\")\n",
    "    \n",
    "    target_indentation = get_indentation(lines[line_dict[\"line\"] - 1])\n",
    "    i = line_dict[\"line\"]\n",
    "    while i < len(lines):\n",
    "        line = lines[i]\n",
    "        if (get_indentation(line) == target_indentation) and len(line) > 0:\n",
    "            if i == line_dict[\"line\"]:\n",
    "                return i\n",
    "            return i - 1\n",
    "        i += 1\n",
    "    return i\n",
    "        \n",
    "    \n",
    "    "
   ]
  },
  {
   "cell_type": "code",
   "execution_count": 56,
   "metadata": {
    "collapsed": false
   },
   "outputs": [],
   "source": [
    "def find_matches_by_name(json_dict, search_term, type_filter=None):\n",
    "    matches = search_for_name(search_term, json_dict, type_filter)\n",
    "    if len(matches):\n",
    "        end =  infer_end_line(matches[0][0], matches[0][1])\n",
    "        return print_source(matches[0][0], matches[0][1][\"line\"], end)\n",
    "    else:\n",
    "        return \"No Matches Found.\"\n",
    "\n",
    "    "
   ]
  },
  {
   "cell_type": "code",
   "execution_count": 68,
   "metadata": {
    "collapsed": true
   },
   "outputs": [],
   "source": [
    "def find_matches_by_docstring(json_dict, search_term, type_filter=None):\n",
    "    matches = search_for_docstring(search_term, json_dict, type_filter)\n",
    "    if len(matches):\n",
    "        end =  infer_end_line(matches[0][0], matches[0][1])\n",
    "        return print_source(matches[0][0], matches[0][1][\"line\"], end)\n",
    "    else:\n",
    "        return \"No Matches Found.\""
   ]
  },
  {
   "cell_type": "code",
   "execution_count": 57,
   "metadata": {
    "collapsed": true
   },
   "outputs": [],
   "source": [
    "json_dict = read_json_file()"
   ]
  },
  {
   "cell_type": "code",
   "execution_count": 74,
   "metadata": {
    "collapsed": false
   },
   "outputs": [
    {
     "name": "stdout",
     "output_type": "stream",
     "text": [
      "class ReluLayer(Layer):\n",
      "  def __init__(self, *args, **kwargs):\n",
      "    super(ReluLayer, self).__init__(*args, **kwargs)\n",
      "\n",
      "  @classmethod\n",
      "  def IsLayerType(cls, proto):\n",
      "    return proto.hyperparams.activation == deepnet_pb2.Hyperparams.RECTIFIED_LINEAR\n",
      "\n",
      "  def ApplyActivation(self, neg=False):\n",
      "    if neg:\n",
      "      state = self.neg_state\n",
      "    else:\n",
      "      state = self.state\n",
      "    state.lower_bound(0)\n",
      "\n",
      "  def Sample(self, neg=False):\n",
      "    if neg:\n",
      "      sample = self.neg_sample\n",
      "      state = self.neg_state\n",
      "    else:\n",
      "      sample = self.sample\n",
      "      state = self.state\n",
      "    state.sample_gaussian(target=sample, mult=1.0)\n",
      "    sample.lower_bound(0)\n",
      "\n",
      "  def ComputeDeriv(self):\n",
      "    \"\"\"Compute derivative w.r.t input given derivative w.r.t output.\"\"\"\n",
      "    self.deriv.apply_rectified_linear_deriv(self.state)\n",
      "\n",
      "  def GetLoss(self, get_deriv=False, acc_deriv=False, **kwargs):\n",
      "    \"\"\"Compute loss and also deriv w.r.t to it if asked for.\n",
      "\n",
      "    Compute the loss function. Targets should be in self.data, predictions\n",
      "    should be in self.state.\n",
      "    Args:\n",
      "      get_deriv: If True, compute the derivative w.r.t the loss function and put\n",
      "        it in self.deriv.\n",
      "    \"\"\"\n",
      "    perf = deepnet_pb2.Metrics()\n",
      "    perf.MergeFrom(self.proto.performance_stats)\n",
      "    perf.count = self.batchsize\n",
      "    if self.loss_function == deepnet_pb2.Layer.SQUARED_LOSS:\n",
      "      target = self.statesize\n",
      "      self.state.subtract(self.data, target=target)\n",
      "      error = target.euclid_norm()**2\n",
      "      perf.error = error\n",
      "      if acc_deriv:\n",
      "        self.deriv.add_mult(target, alpha=self.loss_weight)\n",
      "      else:\n",
      "        self.deriv.assign(target)\n",
      "      if get_deriv:\n",
      "        self.ComputeDeriv()\n",
      "    else:\n",
      "      raise Exception('Unknown loss function for ReLU units.')\n",
      "    return perf\n",
      "\n",
      "\n"
     ]
    }
   ],
   "source": [
    "# print find_matches_by_name(json_dict, \"sofax\", \"function\")\n",
    "print find_matches_by_docstring(json_dict, \"Relu\")"
   ]
  },
  {
   "cell_type": "code",
   "execution_count": 72,
   "metadata": {
    "collapsed": false
   },
   "outputs": [],
   "source": []
  },
  {
   "cell_type": "code",
   "execution_count": null,
   "metadata": {
    "collapsed": true
   },
   "outputs": [],
   "source": []
  }
 ],
 "metadata": {
  "kernelspec": {
   "display_name": "Python 2",
   "language": "python",
   "name": "python2"
  },
  "language_info": {
   "codemirror_mode": {
    "name": "ipython",
    "version": 2
   },
   "file_extension": ".py",
   "mimetype": "text/x-python",
   "name": "python",
   "nbconvert_exporter": "python",
   "pygments_lexer": "ipython2",
   "version": "2.7.10"
  }
 },
 "nbformat": 4,
 "nbformat_minor": 1
}
